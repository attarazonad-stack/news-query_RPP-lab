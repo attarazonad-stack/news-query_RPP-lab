{
 "cells": [
  {
   "cell_type": "markdown",
   "id": "a7d3c5c0",
   "metadata": {},
   "source": [
    "# 📰 Tarea 1: Sistema de recuperación de noticias (RPP)\n"
   ]
  },
  {
   "cell_type": "markdown",
   "id": "21341ba2",
   "metadata": {},
   "source": [
    "##### Instalar requirements:"
   ]
  },
  {
   "cell_type": "code",
   "execution_count": 3,
   "id": "ba98ee01",
   "metadata": {},
   "outputs": [],
   "source": [
    "#pip install -r requirements.txt"
   ]
  },
  {
   "cell_type": "markdown",
   "id": "716a072d",
   "metadata": {},
   "source": [
    "#### Cargar datos :"
   ]
  },
  {
   "cell_type": "code",
   "execution_count": 4,
   "id": "ec270b7e",
   "metadata": {},
   "outputs": [
    {
     "name": "stdout",
     "output_type": "stream",
     "text": [
      "Noticias extraídas: 50\n"
     ]
    },
    {
     "data": {
      "text/html": [
       "<div>\n",
       "<style scoped>\n",
       "    .dataframe tbody tr th:only-of-type {\n",
       "        vertical-align: middle;\n",
       "    }\n",
       "\n",
       "    .dataframe tbody tr th {\n",
       "        vertical-align: top;\n",
       "    }\n",
       "\n",
       "    .dataframe thead th {\n",
       "        text-align: right;\n",
       "    }\n",
       "</style>\n",
       "<table border=\"1\" class=\"dataframe\">\n",
       "  <thead>\n",
       "    <tr style=\"text-align: right;\">\n",
       "      <th></th>\n",
       "      <th>title</th>\n",
       "      <th>description</th>\n",
       "      <th>link</th>\n",
       "      <th>date_published</th>\n",
       "    </tr>\n",
       "  </thead>\n",
       "  <tbody>\n",
       "    <tr>\n",
       "      <th>0</th>\n",
       "      <td>Historial de reportes de sismos magnitud y epi...</td>\n",
       "      <td>¿Cuál fue el último Temblor en Chile hoy 17 de...</td>\n",
       "      <td>https://rpp.pe/mundo/chile/temblor-en-chile-ho...</td>\n",
       "      <td>Wed, 15 Oct 2025 17:09:45 -0500</td>\n",
       "    </tr>\n",
       "    <tr>\n",
       "      <th>1</th>\n",
       "      <td>Temblor en Chile hoy 17 de octubre: Epicentro ...</td>\n",
       "      <td>¿Cuál fue el último Temblor en Chile hoy 17 de...</td>\n",
       "      <td>https://rpp.pe/mundo/chile/temblor-en-chile-ho...</td>\n",
       "      <td>Fri, 17 Oct 2025 20:09:45 -0500</td>\n",
       "    </tr>\n",
       "    <tr>\n",
       "      <th>2</th>\n",
       "      <td>Cúal fue el último temblor en México hoy 17 de...</td>\n",
       "      <td>Cuál es el ultimo temblor en México y CDMX reg...</td>\n",
       "      <td>https://rpp.pe/mundo/mexico/cual-fue-el-ultimo...</td>\n",
       "      <td>Thu, 16 Oct 2025 06:48:35 -0500</td>\n",
       "    </tr>\n",
       "    <tr>\n",
       "      <th>3</th>\n",
       "      <td>Imagine Dragons en Lima: setlist, horarios y t...</td>\n",
       "      <td>La banda de pop rock llegará por primera vez a...</td>\n",
       "      <td>https://rpp.pe/musica/conciertos/imagine-drago...</td>\n",
       "      <td>Fri, 17 Oct 2025 19:37:24 -0500</td>\n",
       "    </tr>\n",
       "    <tr>\n",
       "      <th>4</th>\n",
       "      <td>Señor de los Milagros: fe y tradición que se m...</td>\n",
       "      <td>Cada octubre, innumerables fieles acompañan al...</td>\n",
       "      <td>https://rpp.pe/peru/actualidad/senor-de-los-mi...</td>\n",
       "      <td>Fri, 17 Oct 2025 19:28:45 -0500</td>\n",
       "    </tr>\n",
       "  </tbody>\n",
       "</table>\n",
       "</div>"
      ],
      "text/plain": [
       "                                               title  \\\n",
       "0  Historial de reportes de sismos magnitud y epi...   \n",
       "1  Temblor en Chile hoy 17 de octubre: Epicentro ...   \n",
       "2  Cúal fue el último temblor en México hoy 17 de...   \n",
       "3  Imagine Dragons en Lima: setlist, horarios y t...   \n",
       "4  Señor de los Milagros: fe y tradición que se m...   \n",
       "\n",
       "                                         description  \\\n",
       "0  ¿Cuál fue el último Temblor en Chile hoy 17 de...   \n",
       "1  ¿Cuál fue el último Temblor en Chile hoy 17 de...   \n",
       "2  Cuál es el ultimo temblor en México y CDMX reg...   \n",
       "3  La banda de pop rock llegará por primera vez a...   \n",
       "4  Cada octubre, innumerables fieles acompañan al...   \n",
       "\n",
       "                                                link  \\\n",
       "0  https://rpp.pe/mundo/chile/temblor-en-chile-ho...   \n",
       "1  https://rpp.pe/mundo/chile/temblor-en-chile-ho...   \n",
       "2  https://rpp.pe/mundo/mexico/cual-fue-el-ultimo...   \n",
       "3  https://rpp.pe/musica/conciertos/imagine-drago...   \n",
       "4  https://rpp.pe/peru/actualidad/senor-de-los-mi...   \n",
       "\n",
       "                    date_published  \n",
       "0  Wed, 15 Oct 2025 17:09:45 -0500  \n",
       "1  Fri, 17 Oct 2025 20:09:45 -0500  \n",
       "2  Thu, 16 Oct 2025 06:48:35 -0500  \n",
       "3  Fri, 17 Oct 2025 19:37:24 -0500  \n",
       "4  Fri, 17 Oct 2025 19:28:45 -0500  "
      ]
     },
     "execution_count": 4,
     "metadata": {},
     "output_type": "execute_result"
    }
   ],
   "source": [
    "import feedparser\n",
    "import pandas as pd\n",
    "\n",
    "\n",
    "# URL del RSS de RPP\n",
    "rss_url = \"https://rpp.pe/rss\"\n",
    "\n",
    "feed = feedparser.parse(rss_url)\n",
    "\n",
    "# Se extrae las 50 noticias más recientes\n",
    "news_items = []\n",
    "for entry in feed.entries[:50]:\n",
    "    news_items.append({\n",
    "        \"title\": entry.title,\n",
    "        \"description\": entry.description,\n",
    "        \"link\": entry.link,\n",
    "        \"date_published\": entry.published if \"published\" in entry else None\n",
    "    })\n",
    "\n",
    "df_rpp = pd.DataFrame(news_items)\n",
    "print(f\"Noticias extraídas: {len(df_rpp)}\")\n",
    "df_rpp.head()\n"
   ]
  },
  {
   "cell_type": "markdown",
   "id": "b546bf13",
   "metadata": {},
   "source": [
    " #### Tokenización :"
   ]
  },
  {
   "cell_type": "code",
   "execution_count": 5,
   "id": "0978e05e",
   "metadata": {},
   "outputs": [
    {
     "name": "stdout",
     "output_type": "stream",
     "text": [
      "Número de tokens en el primer artículo: 53\n",
      "No fue necesario dividir el texto.\n"
     ]
    }
   ],
   "source": [
    "import tiktoken\n",
    "\n",
    "# Elegimos un modelo de referencia\n",
    "encoding = tiktoken.encoding_for_model(\"gpt-3.5-turbo\")\n",
    "\n",
    "# Tomamos un artículo de ejemplo\n",
    "sample_text = df_rpp[\"description\"][0]\n",
    "num_tokens = len(encoding.encode(sample_text))\n",
    "\n",
    "print(f\"Número de tokens en el primer artículo: {num_tokens}\")\n",
    "\n",
    "# Si el texto supera 1024 tokens, lo dividimos\n",
    "def dividir_texto_si_excede(texto, max_tokens=1024):\n",
    "    tokens = encoding.encode(texto)\n",
    "    if len(tokens) <= max_tokens:\n",
    "        return [texto]  # No necesita dividirse\n",
    "    else:\n",
    "        partes = []\n",
    "        for i in range(0, len(tokens), max_tokens):\n",
    "            sub_tokens = tokens[i:i + max_tokens]\n",
    "            sub_texto = encoding.decode(sub_tokens)\n",
    "            partes.append(sub_texto)\n",
    "        return partes\n",
    "\n",
    "# Aplicamos la función al texto de ejemplo\n",
    "if num_tokens > 1024:\n",
    "    partes = dividir_texto_si_excede(sample_text)\n",
    "    print(f\"El texto se dividió en {len(partes)} fragmentos.\")\n",
    "else:\n",
    "    print(\"No fue necesario dividir el texto.\")"
   ]
  },
  {
   "cell_type": "markdown",
   "id": "02bf8825",
   "metadata": {},
   "source": [
    " #### Generar incrustaciones (embeddings) :"
   ]
  },
  {
   "cell_type": "code",
   "execution_count": null,
   "id": "9c172a34",
   "metadata": {},
   "outputs": [
    {
     "data": {
      "application/vnd.jupyter.widget-view+json": {
       "model_id": "6da29f1093ec42c5b15bc2ca302b0beb",
       "version_major": 2,
       "version_minor": 0
      },
      "text/plain": [
       "modules.json:   0%|          | 0.00/349 [00:00<?, ?B/s]"
      ]
     },
     "metadata": {},
     "output_type": "display_data"
    },
    {
     "name": "stderr",
     "output_type": "stream",
     "text": [
      "c:\\Users\\atara\\anaconda3\\envs\\yelp_scraper\\lib\\site-packages\\huggingface_hub\\file_download.py:143: UserWarning: `huggingface_hub` cache-system uses symlinks by default to efficiently store duplicated files but your machine does not support them in C:\\Users\\atara\\.cache\\huggingface\\hub\\models--sentence-transformers--all-MiniLM-L6-v2. Caching files will still work but in a degraded version that might require more space on your disk. This warning can be disabled by setting the `HF_HUB_DISABLE_SYMLINKS_WARNING` environment variable. For more details, see https://huggingface.co/docs/huggingface_hub/how-to-cache#limitations.\n",
      "To support symlinks on Windows, you either need to activate Developer Mode or to run Python as an administrator. In order to activate developer mode, see this article: https://docs.microsoft.com/en-us/windows/apps/get-started/enable-your-device-for-development\n",
      "  warnings.warn(message)\n"
     ]
    },
    {
     "data": {
      "application/vnd.jupyter.widget-view+json": {
       "model_id": "7b671caea49e4ca9ae10366f9917c9f9",
       "version_major": 2,
       "version_minor": 0
      },
      "text/plain": [
       "config_sentence_transformers.json:   0%|          | 0.00/116 [00:00<?, ?B/s]"
      ]
     },
     "metadata": {},
     "output_type": "display_data"
    },
    {
     "data": {
      "application/vnd.jupyter.widget-view+json": {
       "model_id": "065cd161f39c4adbb5a66ae3b927bffd",
       "version_major": 2,
       "version_minor": 0
      },
      "text/plain": [
       "README.md: 0.00B [00:00, ?B/s]"
      ]
     },
     "metadata": {},
     "output_type": "display_data"
    },
    {
     "data": {
      "application/vnd.jupyter.widget-view+json": {
       "model_id": "73cbbe97cfc24ef3b00f87ff48eedc4a",
       "version_major": 2,
       "version_minor": 0
      },
      "text/plain": [
       "sentence_bert_config.json:   0%|          | 0.00/53.0 [00:00<?, ?B/s]"
      ]
     },
     "metadata": {},
     "output_type": "display_data"
    },
    {
     "data": {
      "application/vnd.jupyter.widget-view+json": {
       "model_id": "27a34bc4c9db448bb62b2fce1457f04e",
       "version_major": 2,
       "version_minor": 0
      },
      "text/plain": [
       "config.json:   0%|          | 0.00/612 [00:00<?, ?B/s]"
      ]
     },
     "metadata": {},
     "output_type": "display_data"
    },
    {
     "name": "stderr",
     "output_type": "stream",
     "text": [
      "Xet Storage is enabled for this repo, but the 'hf_xet' package is not installed. Falling back to regular HTTP download. For better performance, install the package with: `pip install huggingface_hub[hf_xet]` or `pip install hf_xet`\n"
     ]
    },
    {
     "data": {
      "application/vnd.jupyter.widget-view+json": {
       "model_id": "ed61d43eaf0847698eddddacc8f9eb9c",
       "version_major": 2,
       "version_minor": 0
      },
      "text/plain": [
       "model.safetensors:   0%|          | 0.00/90.9M [00:00<?, ?B/s]"
      ]
     },
     "metadata": {},
     "output_type": "display_data"
    },
    {
     "data": {
      "application/vnd.jupyter.widget-view+json": {
       "model_id": "d4eaac485594443b958993dca84201a7",
       "version_major": 2,
       "version_minor": 0
      },
      "text/plain": [
       "tokenizer_config.json:   0%|          | 0.00/350 [00:00<?, ?B/s]"
      ]
     },
     "metadata": {},
     "output_type": "display_data"
    },
    {
     "data": {
      "application/vnd.jupyter.widget-view+json": {
       "model_id": "bae4f74cea4c4df29690d45ab2a224cd",
       "version_major": 2,
       "version_minor": 0
      },
      "text/plain": [
       "vocab.txt: 0.00B [00:00, ?B/s]"
      ]
     },
     "metadata": {},
     "output_type": "display_data"
    },
    {
     "data": {
      "application/vnd.jupyter.widget-view+json": {
       "model_id": "551886deb5914ff0829ede45e344b8ed",
       "version_major": 2,
       "version_minor": 0
      },
      "text/plain": [
       "tokenizer.json: 0.00B [00:00, ?B/s]"
      ]
     },
     "metadata": {},
     "output_type": "display_data"
    },
    {
     "data": {
      "application/vnd.jupyter.widget-view+json": {
       "model_id": "32c242e068c144ffbe915c75b78fe1b7",
       "version_major": 2,
       "version_minor": 0
      },
      "text/plain": [
       "special_tokens_map.json:   0%|          | 0.00/112 [00:00<?, ?B/s]"
      ]
     },
     "metadata": {},
     "output_type": "display_data"
    },
    {
     "data": {
      "application/vnd.jupyter.widget-view+json": {
       "model_id": "10a5843a9fef44c3b634bff1625b0156",
       "version_major": 2,
       "version_minor": 0
      },
      "text/plain": [
       "config.json:   0%|          | 0.00/190 [00:00<?, ?B/s]"
      ]
     },
     "metadata": {},
     "output_type": "display_data"
    },
    {
     "data": {
      "application/vnd.jupyter.widget-view+json": {
       "model_id": "0f8e76939cac4637a8f0f02341238848",
       "version_major": 2,
       "version_minor": 0
      },
      "text/plain": [
       "Batches:   0%|          | 0/2 [00:00<?, ?it/s]"
      ]
     },
     "metadata": {},
     "output_type": "display_data"
    },
    {
     "name": "stdout",
     "output_type": "stream",
     "text": [
      "Forma de las incrustaciones: (50, 384)\n"
     ]
    }
   ],
   "source": [
    "from sentence_transformers import SentenceTransformer\n",
    "\n",
    "model_name = \"sentence-transformers/all-MiniLM-L6-v2\"\n",
    "embedder = SentenceTransformer(model_name)\n",
    "\n",
    "# Crear las incrustaciones\n",
    "embeddings = embedder.encode(df_rpp[\"description\"].tolist(), show_progress_bar=True)\n",
    "\n",
    "print(f\"Forma de las incrustaciones: {embeddings.shape}\")\n"
   ]
  },
  {
   "cell_type": "markdown",
   "id": "1de57422",
   "metadata": {},
   "source": [
    " #### Crear base de datos vectorial con ChromaDB"
   ]
  },
  {
   "cell_type": "code",
   "execution_count": null,
   "id": "8fd476b4",
   "metadata": {},
   "outputs": [],
   "source": [
    "import chromadb\n",
    "from chromadb.utils import embedding_functions\n",
    "\n",
    "chroma_client = chromadb.Client()\n",
    "\n",
    "# Crear o conectar a una colección\n",
    "collection = chroma_client.get_or_create_collection(name=\"rpp_news\")\n",
    "\n",
    "# Insertar los documentos y sus metadatos\n",
    "collection.add(\n",
    "    documents=df_rpp[\"description\"].tolist(),\n",
    "    embeddings=embeddings,\n",
    "    metadatas=[{\n",
    "        \"title\": t,\n",
    "        \"link\": l,\n",
    "        \"date_published\": d\n",
    "    } for t, l, d in zip(df_rpp[\"title\"], df_rpp[\"link\"], df_rpp[\"date_published\"])],\n",
    "    ids=[f\"id_{i}\" for i in range(len(df_rpp))]\n",
    ")\n",
    "\n",
    "print(\" Noticias insertadas correctamente en ChromaDB\")"
   ]
  },
  {
   "cell_type": "markdown",
   "id": "55815573",
   "metadata": {},
   "source": [
    "#### Consultas de similitud: "
   ]
  },
  {
   "cell_type": "code",
   "execution_count": null,
   "id": "f6e79aec",
   "metadata": {},
   "outputs": [],
   "source": [
    "query = \"Últimas noticias de economía\"\n",
    "\n",
    "query_embedding = embedder.encode([query])\n",
    "results = collection.query(\n",
    "    query_embeddings=query_embedding,\n",
    "    n_results=5\n",
    ")\n",
    "\n",
    "# Mostrar los resultados en un DataFrame\n",
    "results_df = pd.DataFrame({\n",
    "    \"title\": [m[\"title\"] for m in results[\"metadatas\"][0]],\n",
    "    \"description\": results[\"documents\"][0],\n",
    "    \"link\": [m[\"link\"] for m in results[\"metadatas\"][0]],\n",
    "    \"date_published\": [m[\"date_published\"] for m in results[\"metadatas\"][0]]\n",
    "})\n",
    "\n",
    "print(\"Resultados de la búsqueda por similitud:\")\n",
    "results_df\n"
   ]
  },
  {
   "cell_type": "markdown",
   "id": "382af7ef",
   "metadata": {},
   "source": [
    "#### Orquestación con LangChain :\n"
   ]
  },
  {
   "cell_type": "code",
   "execution_count": null,
   "id": "be45a36c",
   "metadata": {},
   "outputs": [],
   "source": [
    "from langchain.chains import LLMChain\n",
    "from langchain.prompts import PromptTemplate\n",
    "from langchain.llms.fake import FakeListLLM  # Simulación ligera sin API\n",
    "\n",
    "# Solo simularemos un flujo completo (sin necesidad de API de OpenAI)\n",
    "template = \"\"\"\n",
    "Dada la siguiente descripción de noticia: \"{description}\"\n",
    "Responde con una categoría temática general (por ejemplo: política, deportes, economía, sociedad, tecnología).\n",
    "\"\"\"\n",
    "prompt = PromptTemplate(input_variables=[\"description\"], template=template)\n",
    "\n",
    "# Creamos un LLM simulado (podrías cambiarlo por ChatOpenAI si tienes API key)\n",
    "fake_llm = FakeListLLM(responses=[\"economía\", \"política\", \"sociedad\", \"tecnología\", \"deportes\"])\n",
    "\n",
    "chain = LLMChain(llm=fake_llm, prompt=prompt)\n",
    "\n",
    "# Probar con una noticia\n",
    "test_description = df_rpp[\"description\"][1]\n",
    "chain.run(description=test_description)\n",
    "\n",
    "print(\"Código ejecutado correctamente\")"
   ]
  }
 ],
 "metadata": {
  "kernelspec": {
   "display_name": "yelp_scraper",
   "language": "python",
   "name": "python3"
  },
  "language_info": {
   "codemirror_mode": {
    "name": "ipython",
    "version": 3
   },
   "file_extension": ".py",
   "mimetype": "text/x-python",
   "name": "python",
   "nbconvert_exporter": "python",
   "pygments_lexer": "ipython3",
   "version": "3.10.18"
  }
 },
 "nbformat": 4,
 "nbformat_minor": 5
}
