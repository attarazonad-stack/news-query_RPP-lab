{
 "cells": [
  {
   "cell_type": "markdown",
   "id": "21341ba2",
   "metadata": {},
   "source": [
    "##### Instalar requirements:"
   ]
  },
  {
   "cell_type": "markdown",
   "id": "a7d3c5c0",
   "metadata": {},
   "source": [
    "# 📰 Tarea 1: Sistema de recuperación de noticias (RPP)\n"
   ]
  },
  {
   "cell_type": "code",
   "execution_count": 1,
   "id": "ba98ee01",
   "metadata": {},
   "outputs": [],
   "source": [
    "#pip install -r requirements.txt"
   ]
  },
  {
   "cell_type": "code",
   "execution_count": null,
   "id": "36bfe11a",
   "metadata": {},
   "outputs": [
    {
     "name": "stdout",
     "output_type": "stream",
     "text": [
      "Found existing installation: langchain 1.0.0\n",
      "Uninstalling langchain-1.0.0:\n",
      "  Successfully uninstalled langchain-1.0.0\n",
      "Note: you may need to restart the kernel to use updated packages.\n"
     ]
    },
    {
     "name": "stderr",
     "output_type": "stream",
     "text": [
      "WARNING: Skipping langchain-community as it is not installed.\n"
     ]
    }
   ],
   "source": [
    "#pip uninstall langchain langchain-community -y"
   ]
  },
  {
   "cell_type": "markdown",
   "id": "716a072d",
   "metadata": {},
   "source": [
    "#### Cargar datos :"
   ]
  },
  {
   "cell_type": "code",
   "execution_count": 2,
   "id": "ec270b7e",
   "metadata": {},
   "outputs": [
    {
     "name": "stdout",
     "output_type": "stream",
     "text": [
      "Noticias extraídas: 50\n"
     ]
    },
    {
     "data": {
      "text/html": [
       "<div>\n",
       "<style scoped>\n",
       "    .dataframe tbody tr th:only-of-type {\n",
       "        vertical-align: middle;\n",
       "    }\n",
       "\n",
       "    .dataframe tbody tr th {\n",
       "        vertical-align: top;\n",
       "    }\n",
       "\n",
       "    .dataframe thead th {\n",
       "        text-align: right;\n",
       "    }\n",
       "</style>\n",
       "<table border=\"1\" class=\"dataframe\">\n",
       "  <thead>\n",
       "    <tr style=\"text-align: right;\">\n",
       "      <th></th>\n",
       "      <th>title</th>\n",
       "      <th>description</th>\n",
       "      <th>link</th>\n",
       "      <th>date_published</th>\n",
       "    </tr>\n",
       "  </thead>\n",
       "  <tbody>\n",
       "    <tr>\n",
       "      <th>0</th>\n",
       "      <td>LDU Quito vs. Palmeiras EN VIVO vía ESPN: se e...</td>\n",
       "      <td>Consulta todos los detalles de lo que será el ...</td>\n",
       "      <td>https://rpp.pe/futbol/copa-libertadores/ldu-qu...</td>\n",
       "      <td>Thu, 23 Oct 2025 20:30:45 -0500</td>\n",
       "    </tr>\n",
       "    <tr>\n",
       "      <th>1</th>\n",
       "      <td>Cúal fue el último temblor en México hoy 23 de...</td>\n",
       "      <td>Cuál es el ultimo temblor en México y CDMX reg...</td>\n",
       "      <td>https://rpp.pe/mundo/mexico/cual-fue-el-ultimo...</td>\n",
       "      <td>Wed, 22 Oct 2025 06:42:35 -0500</td>\n",
       "    </tr>\n",
       "    <tr>\n",
       "      <th>2</th>\n",
       "      <td>André Martínez: \"Quiero ganar el Campeonato Mu...</td>\n",
       "      <td>André Martínez, ganador de Caminos del Inca 20...</td>\n",
       "      <td>https://rpp.pe/automovilismo/caminos-del-inca/...</td>\n",
       "      <td>Thu, 23 Oct 2025 19:14:21 -0500</td>\n",
       "    </tr>\n",
       "    <tr>\n",
       "      <th>3</th>\n",
       "      <td>Latin Billboard 2025: Karol G gana el primer p...</td>\n",
       "      <td>La cantante Karol G se llevó el galardón como ...</td>\n",
       "      <td>https://rpp.pe/musica/internacional/latin-bill...</td>\n",
       "      <td>Thu, 23 Oct 2025 20:03:15 -0500</td>\n",
       "    </tr>\n",
       "    <tr>\n",
       "      <th>4</th>\n",
       "      <td>Sporting Cristal vs Universitario HOY: ¿a qué ...</td>\n",
       "      <td>Cristal vs Universitario medirán fuerzas por l...</td>\n",
       "      <td>https://rpp.pe/futbol/descentralizado/universi...</td>\n",
       "      <td>Thu, 23 Oct 2025 20:00:04 -0500</td>\n",
       "    </tr>\n",
       "  </tbody>\n",
       "</table>\n",
       "</div>"
      ],
      "text/plain": [
       "                                               title  \\\n",
       "0  LDU Quito vs. Palmeiras EN VIVO vía ESPN: se e...   \n",
       "1  Cúal fue el último temblor en México hoy 23 de...   \n",
       "2  André Martínez: \"Quiero ganar el Campeonato Mu...   \n",
       "3  Latin Billboard 2025: Karol G gana el primer p...   \n",
       "4  Sporting Cristal vs Universitario HOY: ¿a qué ...   \n",
       "\n",
       "                                         description  \\\n",
       "0  Consulta todos los detalles de lo que será el ...   \n",
       "1  Cuál es el ultimo temblor en México y CDMX reg...   \n",
       "2  André Martínez, ganador de Caminos del Inca 20...   \n",
       "3  La cantante Karol G se llevó el galardón como ...   \n",
       "4  Cristal vs Universitario medirán fuerzas por l...   \n",
       "\n",
       "                                                link  \\\n",
       "0  https://rpp.pe/futbol/copa-libertadores/ldu-qu...   \n",
       "1  https://rpp.pe/mundo/mexico/cual-fue-el-ultimo...   \n",
       "2  https://rpp.pe/automovilismo/caminos-del-inca/...   \n",
       "3  https://rpp.pe/musica/internacional/latin-bill...   \n",
       "4  https://rpp.pe/futbol/descentralizado/universi...   \n",
       "\n",
       "                    date_published  \n",
       "0  Thu, 23 Oct 2025 20:30:45 -0500  \n",
       "1  Wed, 22 Oct 2025 06:42:35 -0500  \n",
       "2  Thu, 23 Oct 2025 19:14:21 -0500  \n",
       "3  Thu, 23 Oct 2025 20:03:15 -0500  \n",
       "4  Thu, 23 Oct 2025 20:00:04 -0500  "
      ]
     },
     "execution_count": 2,
     "metadata": {},
     "output_type": "execute_result"
    }
   ],
   "source": [
    "import feedparser\n",
    "import pandas as pd\n",
    "\n",
    "\n",
    "# URL del RSS de RPP\n",
    "rss_url = \"https://rpp.pe/rss\"\n",
    "\n",
    "feed = feedparser.parse(rss_url)\n",
    "\n",
    "# Se extrae las 50 noticias más recientes\n",
    "news_items = []\n",
    "for entry in feed.entries[:50]:\n",
    "    news_items.append({\n",
    "        \"title\": entry.title,\n",
    "        \"description\": entry.description,\n",
    "        \"link\": entry.link,\n",
    "        \"date_published\": entry.published if \"published\" in entry else None\n",
    "    })\n",
    "\n",
    "df_rpp = pd.DataFrame(news_items)\n",
    "print(f\"Noticias extraídas: {len(df_rpp)}\")\n",
    "df_rpp.head()\n"
   ]
  },
  {
   "cell_type": "markdown",
   "id": "b546bf13",
   "metadata": {},
   "source": [
    " #### Tokenización :"
   ]
  },
  {
   "cell_type": "code",
   "execution_count": null,
   "id": "0978e05e",
   "metadata": {},
   "outputs": [
    {
     "name": "stdout",
     "output_type": "stream",
     "text": [
      "Número de tokens en el primer artículo: 32\n",
      "No fue necesario dividir el texto.\n"
     ]
    }
   ],
   "source": [
    "import tiktoken\n",
    "\n",
    "# Elegimos un modelo de referencia\n",
    "encoding = tiktoken.encoding_for_model(\"gpt-3.5-turbo\")\n",
    "\n",
    "# Tomamos un artículo de ejemplo\n",
    "sample_text = df_rpp[\"description\"][0]\n",
    "num_tokens = len(encoding.encode(sample_text))\n",
    "\n",
    "print(f\"Número de tokens en el primer artículo: {num_tokens}\")\n",
    "\n",
    "# Si el texto supera 1024 tokens, lo dividimos\n",
    "def dividir_texto_si_excede(texto, max_tokens=1024):\n",
    "    tokens = encoding.encode(texto)\n",
    "    if len(tokens) <= max_tokens:\n",
    "        return [texto]  \n",
    "    else:\n",
    "        partes = []\n",
    "        for i in range(0, len(tokens), max_tokens):\n",
    "            sub_tokens = tokens[i:i + max_tokens]\n",
    "            sub_texto = encoding.decode(sub_tokens)\n",
    "            partes.append(sub_texto)\n",
    "        return partes\n",
    "\n",
    "# Aplicamos la función al texto de ejemplo\n",
    "if num_tokens > 1024:\n",
    "    partes = dividir_texto_si_excede(sample_text)\n",
    "    print(f\"El texto se dividió en {len(partes)} fragmentos.\")\n",
    "else:\n",
    "    print(\"No fue necesario dividir el texto.\")"
   ]
  },
  {
   "cell_type": "markdown",
   "id": "02bf8825",
   "metadata": {},
   "source": [
    " #### Generar incrustaciones (embeddings) :"
   ]
  },
  {
   "cell_type": "code",
   "execution_count": 4,
   "id": "9c172a34",
   "metadata": {},
   "outputs": [
    {
     "data": {
      "application/vnd.jupyter.widget-view+json": {
       "model_id": "2248849e38ea4982960d8feeb94fa057",
       "version_major": 2,
       "version_minor": 0
      },
      "text/plain": [
       "Batches:   0%|          | 0/2 [00:00<?, ?it/s]"
      ]
     },
     "metadata": {},
     "output_type": "display_data"
    },
    {
     "name": "stdout",
     "output_type": "stream",
     "text": [
      "Forma de las incrustaciones: (50, 384)\n"
     ]
    }
   ],
   "source": [
    "from sentence_transformers import SentenceTransformer\n",
    "\n",
    "model_name = \"sentence-transformers/all-MiniLM-L6-v2\"\n",
    "embedder = SentenceTransformer(model_name)\n",
    "\n",
    "# Crear las incrustaciones\n",
    "embeddings = embedder.encode(df_rpp[\"description\"].tolist(), show_progress_bar=True)\n",
    "\n",
    "print(f\"Forma de las incrustaciones: {embeddings.shape}\")\n"
   ]
  },
  {
   "cell_type": "markdown",
   "id": "1de57422",
   "metadata": {},
   "source": [
    " #### Crear base de datos vectorial con ChromaDB"
   ]
  },
  {
   "cell_type": "code",
   "execution_count": 5,
   "id": "8fd476b4",
   "metadata": {},
   "outputs": [
    {
     "name": "stdout",
     "output_type": "stream",
     "text": [
      " Noticias insertadas correctamente en ChromaDB\n"
     ]
    }
   ],
   "source": [
    "import chromadb\n",
    "from chromadb.utils import embedding_functions\n",
    "\n",
    "chroma_client = chromadb.Client()\n",
    "\n",
    "# Crear o conectar a una colección\n",
    "collection = chroma_client.get_or_create_collection(name=\"rpp_news\")\n",
    "\n",
    "# Insertar los documentos y sus metadatos\n",
    "collection.add(\n",
    "    documents=df_rpp[\"description\"].tolist(),\n",
    "    embeddings=embeddings,\n",
    "    metadatas=[{\n",
    "        \"title\": t,\n",
    "        \"link\": l,\n",
    "        \"date_published\": d\n",
    "    } for t, l, d in zip(df_rpp[\"title\"], df_rpp[\"link\"], df_rpp[\"date_published\"])],\n",
    "    ids=[f\"id_{i}\" for i in range(len(df_rpp))]\n",
    ")\n",
    "\n",
    "print(\" Noticias insertadas correctamente en ChromaDB\")"
   ]
  },
  {
   "cell_type": "markdown",
   "id": "55815573",
   "metadata": {},
   "source": [
    "#### Consultas de similitud: "
   ]
  },
  {
   "cell_type": "code",
   "execution_count": 6,
   "id": "f6e79aec",
   "metadata": {},
   "outputs": [
    {
     "name": "stdout",
     "output_type": "stream",
     "text": [
      "Resultados de la búsqueda por similitud:\n"
     ]
    },
    {
     "data": {
      "text/html": [
       "<div>\n",
       "<style scoped>\n",
       "    .dataframe tbody tr th:only-of-type {\n",
       "        vertical-align: middle;\n",
       "    }\n",
       "\n",
       "    .dataframe tbody tr th {\n",
       "        vertical-align: top;\n",
       "    }\n",
       "\n",
       "    .dataframe thead th {\n",
       "        text-align: right;\n",
       "    }\n",
       "</style>\n",
       "<table border=\"1\" class=\"dataframe\">\n",
       "  <thead>\n",
       "    <tr style=\"text-align: right;\">\n",
       "      <th></th>\n",
       "      <th>title</th>\n",
       "      <th>description</th>\n",
       "      <th>link</th>\n",
       "      <th>date_published</th>\n",
       "    </tr>\n",
       "  </thead>\n",
       "  <tbody>\n",
       "    <tr>\n",
       "      <th>0</th>\n",
       "      <td>MEF y el presidente Jerí revisan el Presupuest...</td>\n",
       "      <td>La ministra de Economía y Finanzas, Denisse Mi...</td>\n",
       "      <td>https://rpp.pe/economia/economia/mef-y-el-pres...</td>\n",
       "      <td>Thu, 23 Oct 2025 19:18:25 -0500</td>\n",
       "    </tr>\n",
       "    <tr>\n",
       "      <th>1</th>\n",
       "      <td>Isabelle Tate, actriz de '9-1-1: Nashville', m...</td>\n",
       "      <td>Su agencia confirmó la noticia en redes social...</td>\n",
       "      <td>https://rpp.pe/famosos/celebridades/murio-isab...</td>\n",
       "      <td>Thu, 23 Oct 2025 17:00:54 -0500</td>\n",
       "    </tr>\n",
       "    <tr>\n",
       "      <th>2</th>\n",
       "      <td>Tras cambio en el reglamento del Congreso, arc...</td>\n",
       "      <td>Expedientes abiertos por el personal de fiscal...</td>\n",
       "      <td>https://rpp.pe/politica/elecciones/tras-cambio...</td>\n",
       "      <td>Thu, 23 Oct 2025 19:49:41 -0500</td>\n",
       "    </tr>\n",
       "    <tr>\n",
       "      <th>3</th>\n",
       "      <td>Ministerio Público solicitó impedimento de sal...</td>\n",
       "      <td>La Fiscalía solicitó al Poder Judicial que dic...</td>\n",
       "      <td>https://rpp.pe/lima/judiciales/ministerio-publ...</td>\n",
       "      <td>Thu, 23 Oct 2025 19:07:15 -0500</td>\n",
       "    </tr>\n",
       "    <tr>\n",
       "      <th>4</th>\n",
       "      <td>Comisión de Energía y Minas plantea extensión ...</td>\n",
       "      <td>El predictamen de la Comisión de Energía y Min...</td>\n",
       "      <td>https://rpp.pe/politica/congreso/comision-de-e...</td>\n",
       "      <td>Thu, 23 Oct 2025 18:59:11 -0500</td>\n",
       "    </tr>\n",
       "  </tbody>\n",
       "</table>\n",
       "</div>"
      ],
      "text/plain": [
       "                                               title  \\\n",
       "0  MEF y el presidente Jerí revisan el Presupuest...   \n",
       "1  Isabelle Tate, actriz de '9-1-1: Nashville', m...   \n",
       "2  Tras cambio en el reglamento del Congreso, arc...   \n",
       "3  Ministerio Público solicitó impedimento de sal...   \n",
       "4  Comisión de Energía y Minas plantea extensión ...   \n",
       "\n",
       "                                         description  \\\n",
       "0  La ministra de Economía y Finanzas, Denisse Mi...   \n",
       "1  Su agencia confirmó la noticia en redes social...   \n",
       "2  Expedientes abiertos por el personal de fiscal...   \n",
       "3  La Fiscalía solicitó al Poder Judicial que dic...   \n",
       "4  El predictamen de la Comisión de Energía y Min...   \n",
       "\n",
       "                                                link  \\\n",
       "0  https://rpp.pe/economia/economia/mef-y-el-pres...   \n",
       "1  https://rpp.pe/famosos/celebridades/murio-isab...   \n",
       "2  https://rpp.pe/politica/elecciones/tras-cambio...   \n",
       "3  https://rpp.pe/lima/judiciales/ministerio-publ...   \n",
       "4  https://rpp.pe/politica/congreso/comision-de-e...   \n",
       "\n",
       "                    date_published  \n",
       "0  Thu, 23 Oct 2025 19:18:25 -0500  \n",
       "1  Thu, 23 Oct 2025 17:00:54 -0500  \n",
       "2  Thu, 23 Oct 2025 19:49:41 -0500  \n",
       "3  Thu, 23 Oct 2025 19:07:15 -0500  \n",
       "4  Thu, 23 Oct 2025 18:59:11 -0500  "
      ]
     },
     "execution_count": 6,
     "metadata": {},
     "output_type": "execute_result"
    }
   ],
   "source": [
    "query = \"Últimas noticias de economía\"\n",
    "\n",
    "query_embedding = embedder.encode([query])\n",
    "results = collection.query(\n",
    "    query_embeddings=query_embedding,\n",
    "    n_results=5\n",
    ")\n",
    "\n",
    "# Mostrar los resultados en un DataFrame\n",
    "results_df = pd.DataFrame({\n",
    "    \"title\": [m[\"title\"] for m in results[\"metadatas\"][0]],\n",
    "    \"description\": results[\"documents\"][0],\n",
    "    \"link\": [m[\"link\"] for m in results[\"metadatas\"][0]],\n",
    "    \"date_published\": [m[\"date_published\"] for m in results[\"metadatas\"][0]]\n",
    "})\n",
    "\n",
    "print(\"Resultados de la búsqueda por similitud:\")\n",
    "results_df\n"
   ]
  },
  {
   "cell_type": "markdown",
   "id": "382af7ef",
   "metadata": {},
   "source": [
    "#### Orquestación con LangChain :\n"
   ]
  },
  {
   "cell_type": "code",
   "execution_count": 10,
   "id": "be45a36c",
   "metadata": {},
   "outputs": [
    {
     "name": "stdout",
     "output_type": "stream",
     "text": [
      " Noticia: Cúal fue el último temblor en México hoy 23 de octubre según...\n",
      " Categoría predicha: economía\n",
      "\n",
      " Clasificando todas las noticias...\n",
      "\n",
      "1. LDU Quito vs. Palmeiras EN VIVO vía ESPN: se enfrentan por l... → política\n",
      "2. Cúal fue el último temblor en México hoy 23 de octubre según... → sociedad\n",
      "3. André Martínez: \"Quiero ganar el Campeonato Mundial de Rally... → tecnología\n",
      "4. Latin Billboard 2025: Karol G gana el primer premio de la no... → deportes\n",
      "5. Sporting Cristal vs Universitario HOY: ¿a qué hora juegan en... → economía\n",
      "\n",
      " Distribución de categorías:\n",
      "categoria_simulada\n",
      "política      10\n",
      "sociedad      10\n",
      "tecnología    10\n",
      "deportes      10\n",
      "economía      10\n",
      "Name: count, dtype: int64\n",
      "\n",
      " Código ejecutado correctamente\n"
     ]
    }
   ],
   "source": [
    "from langchain_core.prompts import PromptTemplate\n",
    "\n",
    "# Solo simularemos un flujo completo (sin necesidad de API de OpenAI)\n",
    "template = \"\"\"\n",
    "Dada la siguiente descripción de noticia: \"{description}\"\n",
    "Responde con una categoría temática general (por ejemplo: política, deportes, economía, sociedad, tecnología).\n",
    "\"\"\"\n",
    "prompt = PromptTemplate(input_variables=[\"description\"], template=template)\n",
    "\n",
    "# Simulador de LLM simple\n",
    "class SimpleFakeLLM:\n",
    "    \"\"\"Simulador de LLM que devuelve respuestas predefinidas en orden circular.\"\"\"\n",
    "    \n",
    "    def __init__(self, responses):\n",
    "        self.responses = responses\n",
    "        self.index = 0\n",
    "    \n",
    "    def predict(self, prompt_text: str) -> str:\n",
    "        \"\"\"Devuelve la siguiente respuesta de la lista.\"\"\"\n",
    "        response = self.responses[self.index]\n",
    "        self.index = (self.index + 1) % len(self.responses)\n",
    "        return response\n",
    "\n",
    "# Crear LLM simulado\n",
    "fake_llm = SimpleFakeLLM(\n",
    "    responses=[\"economía\", \"política\", \"sociedad\", \"tecnología\", \"deportes\"]\n",
    ")\n",
    "\n",
    "# Pipeline: formatea prompt → envía a LLM → devuelve respuesta\n",
    "def clasificar_noticia(description: str, prompt_template, llm) -> str:\n",
    "    \"\"\"Pipeline que formatea el prompt y obtiene predicción del LLM.\"\"\"\n",
    "    formatted_prompt = prompt_template.format(description=description)\n",
    "    return llm.predict(formatted_prompt)\n",
    "\n",
    "# Probar con una noticia\n",
    "test_description = df_rpp[\"description\"][1]\n",
    "result = clasificar_noticia(test_description, prompt, fake_llm)\n",
    "\n",
    "print(f\" Noticia: {df_rpp['title'][1][:60]}...\")\n",
    "print(f\" Categoría predicha: {result}\")\n",
    "\n",
    "# Clasificar todas las noticias\n",
    "print(\"\\n Clasificando todas las noticias...\\n\")\n",
    "categorias = []\n",
    "for idx, desc in enumerate(df_rpp[\"description\"]):\n",
    "    categoria = clasificar_noticia(desc, prompt, fake_llm)\n",
    "    categorias.append(categoria)\n",
    "    if idx < 5:\n",
    "        print(f\"{idx+1}. {df_rpp['title'][idx][:60]}... → {categoria}\")\n",
    "\n",
    "df_rpp[\"categoria_simulada\"] = categorias\n",
    "\n",
    "print(f\"\\n Distribución de categorías:\")\n",
    "print(df_rpp[\"categoria_simulada\"].value_counts())\n",
    "\n",
    "print(\"\\n Código ejecutado correctamente\")"
   ]
  }
 ],
 "metadata": {
  "kernelspec": {
   "display_name": "yelp_scraper",
   "language": "python",
   "name": "python3"
  },
  "language_info": {
   "codemirror_mode": {
    "name": "ipython",
    "version": 3
   },
   "file_extension": ".py",
   "mimetype": "text/x-python",
   "name": "python",
   "nbconvert_exporter": "python",
   "pygments_lexer": "ipython3",
   "version": "3.10.18"
  }
 },
 "nbformat": 4,
 "nbformat_minor": 5
}
